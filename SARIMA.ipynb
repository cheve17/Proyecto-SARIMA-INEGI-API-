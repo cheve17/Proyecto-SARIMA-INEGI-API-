{
 "cells": [
  {
   "cell_type": "markdown",
   "id": "eed766cc",
   "metadata": {},
   "source": [
    "## $\\color{#dda}{\\text{1: Libs y fetch (pmdarima)}}$"
   ]
  },
  {
   "cell_type": "code",
   "execution_count": null,
   "id": "a0f00828",
   "metadata": {},
   "outputs": [
    {
     "name": "stderr",
     "output_type": "stream",
     "text": [
      "core           INFO \tLoading data for Las Vegas Grand Prix - Race [v3.6.0]\n",
      "req            INFO \tUsing cached data for session_info\n",
      "req            INFO \tUsing cached data for driver_info\n",
      "req            INFO \tUsing cached data for session_status_data\n",
      "req            INFO \tUsing cached data for lap_count\n",
      "req            INFO \tUsing cached data for track_status_data\n",
      "req            INFO \tUsing cached data for _extended_timing_data\n",
      "req            INFO \tUsing cached data for timing_app_data\n",
      "core           INFO \tProcessing timing data...\n",
      "req            INFO \tUsing cached data for car_data\n",
      "req            INFO \tUsing cached data for position_data\n",
      "req            INFO \tUsing cached data for weather_data\n",
      "req            INFO \tUsing cached data for race_control_messages\n",
      "core        WARNING \tDriver 1 completed the race distance 00:00.001000 before the recorded end of the session.\n",
      "core           INFO \tFinished loading data for 20 drivers: ['1', '16', '11', '31', '18', '55', '44', '63', '14', '81', '10', '23', '20', '3', '24', '2', '77', '22', '27', '4']\n"
     ]
    }
   ],
   "source": [
    "import numpy as np\n",
    "import matplotlib.pyplot as plt\n",
    "import plotly.express as px\n",
    "import os\n",
    "import pandas as pd\n",
    "import pmdarima as pm\n",
    "from pmdarima.utils import pacf, acf\n",
    "import plotly.graph_objects as go\n",
    "import warnings\n",
    "warnings.filterwarnings('ignore')"
   ]
  },
  {
   "cell_type": "markdown",
   "id": "ea129979",
   "metadata": {},
   "source": [
    "## $\\color{#dda}{\\text{2: Creación de la serie de tiempo}}$"
   ]
  },
  {
   "cell_type": "code",
   "execution_count": null,
   "id": "f6a8129e",
   "metadata": {},
   "outputs": [],
   "source": []
  },
  {
   "cell_type": "markdown",
   "id": "d111750b",
   "metadata": {},
   "source": [
    "Acá tomamos solo a Checo y a Verstappen y convertimos sus sessiontime a segundos totales"
   ]
  },
  {
   "cell_type": "code",
   "execution_count": null,
   "id": "c37b3997",
   "metadata": {},
   "outputs": [],
   "source": []
  },
  {
   "cell_type": "markdown",
   "id": "f794687a",
   "metadata": {},
   "source": [
    "## $\\color{#dda}{\\text{3: Visualizamos a ver qué hay}}$"
   ]
  },
  {
   "cell_type": "code",
   "execution_count": null,
   "id": "3e9bbb52",
   "metadata": {},
   "outputs": [],
   "source": []
  },
  {
   "cell_type": "markdown",
   "id": "26c39044",
   "metadata": {},
   "source": [
    "## $\\color{#dda}{\\text{4: Bins}}$"
   ]
  },
  {
   "cell_type": "code",
   "execution_count": null,
   "id": "68577901",
   "metadata": {},
   "outputs": [],
   "source": []
  },
  {
   "cell_type": "markdown",
   "id": "8a224aa6",
   "metadata": {},
   "source": [
    "## $\\color{#dda}{\\text{5: SARIMA}}$"
   ]
  },
  {
   "cell_type": "code",
   "execution_count": null,
   "id": "13f2643c",
   "metadata": {},
   "outputs": [],
   "source": []
  },
  {
   "cell_type": "markdown",
   "id": "9909f229",
   "metadata": {},
   "source": [
    "## $\\color{#dda}{\\text{6: Error}}$"
   ]
  },
  {
   "cell_type": "code",
   "execution_count": null,
   "id": "a4288f7c",
   "metadata": {},
   "outputs": [],
   "source": []
  },
  {
   "cell_type": "markdown",
   "id": "4ebe73ab",
   "metadata": {},
   "source": [
    "## $\\color{#dda}{\\text{7: Predicción últimas 5 vueltas completas}}$"
   ]
  },
  {
   "cell_type": "code",
   "execution_count": null,
   "id": "69169b59",
   "metadata": {},
   "outputs": [],
   "source": []
  }
 ],
 "metadata": {
  "kernelspec": {
   "display_name": "base",
   "language": "python",
   "name": "python3"
  },
  "language_info": {
   "codemirror_mode": {
    "name": "ipython",
    "version": 3
   },
   "file_extension": ".py",
   "mimetype": "text/x-python",
   "name": "python",
   "nbconvert_exporter": "python",
   "pygments_lexer": "ipython3",
   "version": "3.12.4"
  }
 },
 "nbformat": 4,
 "nbformat_minor": 5
}
